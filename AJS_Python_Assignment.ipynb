{
 "cells": [
  {
   "cell_type": "markdown",
   "metadata": {},
   "source": [
    "# EEOB 546X Python Assignment"
   ]
  },
  {
   "cell_type": "markdown",
   "metadata": {},
   "source": [
    "## Question 1\n",
    "### All annotations for this code can be found after each line"
   ]
  },
  {
   "cell_type": "code",
   "execution_count": 1,
   "metadata": {
    "scrolled": true
   },
   "outputs": [
    {
     "name": "stdout",
     "output_type": "stream",
     "text": [
      "Using matplotlib backend: TkAgg\n"
     ]
    }
   ],
   "source": [
    "from Bio import SeqIO\n",
    "from Bio.Data import CodonTable\n",
    "import numpy as np\n",
    "import pandas as pd\n",
    "from Bio.SeqUtils.ProtParam import ProteinAnalysis\n",
    "import seaborn as sns\n",
    "%matplotlib"
   ]
  },
  {
   "cell_type": "code",
   "execution_count": 2,
   "metadata": {
    "collapsed": true
   },
   "outputs": [],
   "source": [
    "## This function is written by Dr. X\n",
    "\n",
    "def get_sequences_from_file(fasta_fn): \n",
    "    ## Use the definition function to define a function to get the sequences from a file\n",
    "    sequence_data_dict = {} \n",
    "    ## Create a dictionary\n",
    "    for record in SeqIO.parse(fasta_fn, \"fasta\"): \n",
    "        ## Create a for-loop that pertains to every record in the SeqIO.parse fasta file\n",
    "        description = record.description.split() \n",
    "        ## Split the description field into multiple fields. \n",
    "        ## This breaks up the string and will add the data into a string array.\n",
    "        species_name = description[1] + \" \" + description[2] \n",
    "        ## Create the species names by combining the description information that we specifically split \n",
    "        ## into three different pieces of arrangement. The outputs here could vary, \n",
    "        ## depending on how the fasta file is arranged, so this command will be specific to the fasta filed being used. \n",
    "        sequence_data_dict[species_name] = record.seq \n",
    "        ## Create the final dictionary that will list the species names and corresponding information \n",
    "        ## from the record above so that the sequences and species, as well as mass, will all be correctly matched.\n",
    "    return(sequence_data_dict) \n",
    "    ## Return the data within \"sequence_data_dict\"\n",
    "\n",
    "## Source: http://biopython.org/DIST/docs/api/Bio.SeqIO-module.html\n"
   ]
  },
  {
   "cell_type": "markdown",
   "metadata": {},
   "source": [
    "## Question 2\n",
    "\n",
    "### Here, I took the psuedo-code and was able to write a translate function that will loop over the string of nucleotides. By using BioPython, I was able to identify the codon table that was to be used, set the string, and created the loop that signified that it was to read the DNA string in three-nucleotide segments. I also set it so that it would leave off the stop codon (which is the default setting) and told it to return the values."
   ]
  },
  {
   "cell_type": "code",
   "execution_count": 3,
   "metadata": {
    "collapsed": true
   },
   "outputs": [],
   "source": [
    "## Psuedo-code by Dr. X\n",
    "# def translate_function(string_nucleotides): \n",
    "#     mito_table = CodonTable.unambiguous_dna_by_name[\"Vertebrate Mitochondrial\"] # this should work using BioPython (be sure to check what this returns)\n",
    "#     for-loop through every 3rd position in string_nucleotides to get the codon using range subsets\n",
    "#         # IMPORTANT: if the sequence has a stop codon at the end, you should leave it off\n",
    "#         # this is how you can retrieve the amino acid: mito_table.forward_table[codon]\n",
    "#         add the aa to aa_seq_string\n",
    "#     return(aa_seq_string)\n",
    "\n",
    "## My code:\n",
    "\n",
    "def translate_function(string_nucleotides): \n",
    "    mito_table = CodonTable.unambiguous_dna_by_name[\"Vertebrate Mitochondrial\"] \n",
    "    aa_string = \"\" \n",
    "    for x in range (0,len(string_nucleotides)-3,3):\n",
    "        codon = string_nucleotides[x : x + 3]\n",
    "        aa_string = aa_string + mito_table.forward_table[codon]\n",
    "    return(aa_string)\n",
    "\n",
    "## source: http://biopython.org/DIST/docs/tutorial/Tutorial.html"
   ]
  },
  {
   "cell_type": "markdown",
   "metadata": {},
   "source": [
    "##### The following tests that translate_function works"
   ]
  },
  {
   "cell_type": "code",
   "execution_count": 4,
   "metadata": {
    "collapsed": true
   },
   "outputs": [],
   "source": [
    "cytb_seqs = get_sequences_from_file(\"penguins_cytb.fasta\") "
   ]
  },
  {
   "cell_type": "code",
   "execution_count": 5,
   "metadata": {},
   "outputs": [
    {
     "name": "stdout",
     "output_type": "stream",
     "text": [
      "ATGGCCCCAAACCTCCGAAAATCCCATCCTCTCCTAAAAATAATTAATAACTCCCTAATCGACCTGCCCACCCCATCAAACATCTCTGCCTGATGAAACTTCGGATCTCTCCTAGGCATCTGCCTAACTACACAAATCTTAACCGGCCTCCTACTAGCTATACACTACACTGCAGACACAACCCTGGCCTTCTCCTCAGTCGCCCACACATGCCGAAATGTACAGTACGGCTGACTAATCCGCAACCTACATGCAAACGGAGCATCATTCTTTTTCATCTGCATCTACCTCCACATCGGCCGTGGATTTTACTACGGCTCCTACCTATACAAAGAAACCTGAAACACGGGCATCATTCTCCTACTCACACTCATAGCAACCGCCTTCGTAGGCTACGTCCTGCCATGGGGACAAATATCATTCTGAGGGGCCACAGTCATTACCAACTTATTCTCAGCCATCCCCTACATCGGCCAAACCCTCGTAGAATGAGCCTGAGGTGGCTTTTCAGTAGACAACCCCACATTAACCCGATTTTTCGCACTACACTTCCTCCTCCCCTTCATAATCGCAGGCCTCACCCTCATCCATCTCACCTTCCTCCACGAATCAGGCTCAAACAACCCACTGGGCATCGTAGCTAACTCCGATAAGATCCCATTCCATCCCTACTACTCCACAAAAGACACCCTAGGATTCGCACTCATACTTCTCCCACTAACAACCCTCGCCCTATTCTCCCCCAACTTACTGGGGGACCCAGAAAACTTTACCCCAGCAAACCCACTAGTCACACCCCCACACATCAAACCAGAATGATACTTCCTATTTGCATACGCTATCCTACGCTCAATCCCCAACAAACTGGGGGGAGTCCTAGCCCTAGCAGCCTCAGTACTGATCCTATTCCTAATCCCCCTCCTCCACAAGTCCAAACAGCGTACAATAACCTTCCGTCCCCTCTCCCAGCTCCTATTCTGAACCTTAGTAGCCAACCTCACCATCCTAACATGGATCGGCAGCCAACCAGTAGAACACCCCTTCATCATCATCGGCCAACTAGCTTCCCTCACCTACTTCACCATCCTCCTAATCCTCTTCCCCCTCATCGGGACTCTAGAAAACAAGATACTTAACCACTAA\n"
     ]
    }
   ],
   "source": [
    "print(cytb_seqs['Aptenodytes patagonicus'])"
   ]
  },
  {
   "cell_type": "code",
   "execution_count": 6,
   "metadata": {},
   "outputs": [
    {
     "data": {
      "text/plain": [
       "'MAPNLRKSHPLLKMINNSLIDLPTPSNISAWWNFGSLLGICLTTQILTGLLLAMHYTADTTLAFSSVAHTCRNVQYGWLIRNLHANGASFFFICIYLHIGRGFYYGSYLYKETWNTGIILLLTLMATAFVGYVLPWGQMSFWGATVITNLFSAIPYIGQTLVEWAWGGFSVDNPTLTRFFALHFLLPFMIAGLTLIHLTFLHESGSNNPLGIVANSDKIPFHPYYSTKDTLGFALMLLPLTTLALFSPNLLGDPENFTPANPLVTPPHIKPEWYFLFAYAILRSIPNKLGGVLALAASVLILFLIPLLHKSKQRTMTFRPLSQLLFWTLVANLTILTWIGSQPVEHPFIIIGQLASLTYFTILLILFPLIGTLENKMLNH'"
      ]
     },
     "execution_count": 6,
     "metadata": {},
     "output_type": "execute_result"
    }
   ],
   "source": [
    "translate_function(\"ATGGCCCCAAACCTCCGAAAATCCCATCCTCTCCTAAAAATAATTAATAACTCCCTAATCGACCTGCCCACCCCATCAAACATCTCTGCCTGATGAAACTTCGGATCTCTCCTAGGCATCTGCCTAACTACACAAATCTTAACCGGCCTCCTACTAGCTATACACTACACTGCAGACACAACCCTGGCCTTCTCCTCAGTCGCCCACACATGCCGAAATGTACAGTACGGCTGACTAATCCGCAACCTACATGCAAACGGAGCATCATTCTTTTTCATCTGCATCTACCTCCACATCGGCCGTGGATTTTACTACGGCTCCTACCTATACAAAGAAACCTGAAACACGGGCATCATTCTCCTACTCACACTCATAGCAACCGCCTTCGTAGGCTACGTCCTGCCATGGGGACAAATATCATTCTGAGGGGCCACAGTCATTACCAACTTATTCTCAGCCATCCCCTACATCGGCCAAACCCTCGTAGAATGAGCCTGAGGTGGCTTTTCAGTAGACAACCCCACATTAACCCGATTTTTCGCACTACACTTCCTCCTCCCCTTCATAATCGCAGGCCTCACCCTCATCCATCTCACCTTCCTCCACGAATCAGGCTCAAACAACCCACTGGGCATCGTAGCTAACTCCGATAAGATCCCATTCCATCCCTACTACTCCACAAAAGACACCCTAGGATTCGCACTCATACTTCTCCCACTAACAACCCTCGCCCTATTCTCCCCCAACTTACTGGGGGACCCAGAAAACTTTACCCCAGCAAACCCACTAGTCACACCCCCACACATCAAACCAGAATGATACTTCCTATTTGCATACGCTATCCTACGCTCAATCCCCAACAAACTGGGGGGAGTCCTAGCCCTAGCAGCCTCAGTACTGATCCTATTCCTAATCCCCCTCCTCCACAAGTCCAAACAGCGTACAATAACCTTCCGTCCCCTCTCCCAGCTCCTATTCTGAACCTTAGTAGCCAACCTCACCATCCTAACATGGATCGGCAGCCAACCAGTAGAACACCCCTTCATCATCATCGGCCAACTAGCTTCCCTCACCTACTTCACCATCCTCCTAATCCTCTTCCCCCTCATCGGGACTCTAGAAAACAAGATACTTAACCACTAA\")"
   ]
  },
  {
   "cell_type": "markdown",
   "metadata": {},
   "source": [
    "## Question 3\n",
    "### By using a dictionary and defining the new function, I was able to create a much simpler translate function. By designating a key and value within cytb_seqs, I was able to use BioPython to translate the specific values found on the Vertebrate Mitochondrail table "
   ]
  },
  {
   "cell_type": "code",
   "execution_count": 7,
   "metadata": {
    "collapsed": true
   },
   "outputs": [],
   "source": [
    "## My code:\n",
    "def alternative_translation_function(dict):\n",
    "    for key, value in cytb_seqs.items():\n",
    "        aa_string = value.translate(to_stop = True, table=\"Vertebrate Mitochondrial\")\n",
    "    return(aa_string) \n",
    "\n",
    "## source: http://biopython.org/wiki/Seq"
   ]
  },
  {
   "cell_type": "markdown",
   "metadata": {},
   "source": [
    "##### Testing that the alternative_translation_function works"
   ]
  },
  {
   "cell_type": "code",
   "execution_count": 8,
   "metadata": {},
   "outputs": [
    {
     "data": {
      "text/plain": [
       "Seq('MAPNLRKSHPLLKTINNSLIDLPTPSNISAWWNFGSLLGICLATQILTGLLLAA...LNH', ExtendedIUPACProtein())"
      ]
     },
     "execution_count": 8,
     "metadata": {},
     "output_type": "execute_result"
    }
   ],
   "source": [
    "alternative_translation_function(\"ATGGCCCCAAACCTCCGAAAATCCCATCCTCTCCTAAAAATAATTAATAACTCCCTAATCGACCTGCCCACCCCATCAAACATCTCTGCCTGATGAAACTTCGGATCTCTCCTAGGCATCTGCCTAACTACACAAATCTTAACCGGCCTCCTACTAGCTATACACTACACTGCAGACACAACCCTGGCCTTCTCCTCAGTCGCCCACACATGCCGAAATGTACAGTACGGCTGACTAATCCGCAACCTACATGCAAACGGAGCATCATTCTTTTTCATCTGCATCTACCTCCACATCGGCCGTGGATTTTACTACGGCTCCTACCTATACAAAGAAACCTGAAACACGGGCATCATTCTCCTACTCACACTCATAGCAACCGCCTTCGTAGGCTACGTCCTGCCATGGGGACAAATATCATTCTGAGGGGCCACAGTCATTACCAACTTATTCTCAGCCATCCCCTACATCGGCCAAACCCTCGTAGAATGAGCCTGAGGTGGCTTTTCAGTAGACAACCCCACATTAACCCGATTTTTCGCACTACACTTCCTCCTCCCCTTCATAATCGCAGGCCTCACCCTCATCCATCTCACCTTCCTCCACGAATCAGGCTCAAACAACCCACTGGGCATCGTAGCTAACTCCGATAAGATCCCATTCCATCCCTACTACTCCACAAAAGACACCCTAGGATTCGCACTCATACTTCTCCCACTAACAACCCTCGCCCTATTCTCCCCCAACTTACTGGGGGACCCAGAAAACTTTACCCCAGCAAACCCACTAGTCACACCCCCACACATCAAACCAGAATGATACTTCCTATTTGCATACGCTATCCTACGCTCAATCCCCAACAAACTGGGGGGAGTCCTAGCCCTAGCAGCCTCAGTACTGATCCTATTCCTAATCCCCCTCCTCCACAAGTCCAAACAGCGTACAATAACCTTCCGTCCCCTCTCCCAGCTCCTATTCTGAACCTTAGTAGCCAACCTCACCATCCTAACATGGATCGGCAGCCAACCAGTAGAACACCCCTTCATCATCATCGGCCAACTAGCTTCCCTCACCTACTTCACCATCCTCCTAATCCTCTTCCCCCTCATCGGGACTCTAGAAAACAAGATACTTAACCACTAA\")"
   ]
  },
  {
   "cell_type": "markdown",
   "metadata": {},
   "source": [
    "## Question 4\n",
    "### The ProtParam module was used here, which will allow for the computation of molecular weight through ProteinAnalysis. "
   ]
  },
  {
   "cell_type": "code",
   "execution_count": 9,
   "metadata": {
    "collapsed": true
   },
   "outputs": [],
   "source": [
    "## Notes from Dr. X:\n",
    "# from Bio.SeqUtils.ProtParam import ProteinAnalysis\n",
    "# def compute_molecular_weight(aa_seq):\n",
    "#     # I think the ProtParam functions may require aa_seq to be a string.\n",
    "#     # It may not work if the amino acid sequence has stop codons.\n",
    "#     run the ProteinAnalysis() function on aa_seq\n",
    "#\t  return the molecular weight\n",
    "\n",
    "## My Code:\n",
    "\n",
    "from Bio.SeqUtils.ProtParam import ProteinAnalysis\n",
    "def compute_molecular_weight(aa_seq):\n",
    "    analyzed_seq = ProteinAnalysis(aa_seq)\n",
    "    return(analyzed_seq.molecular_weight())\n",
    "\n",
    "## source: http://biopython.org/wiki/ProtParam\n",
    "        "
   ]
  },
  {
   "cell_type": "markdown",
   "metadata": {},
   "source": [
    "##### Testing that the function will compute the molecular weight"
   ]
  },
  {
   "cell_type": "code",
   "execution_count": 10,
   "metadata": {},
   "outputs": [
    {
     "data": {
      "text/plain": [
       "100610.413400002"
      ]
     },
     "execution_count": 10,
     "metadata": {},
     "output_type": "execute_result"
    }
   ],
   "source": [
    "compute_molecular_weight(\"ATGGCCCCAAACCTCCGAAAATCCCATCCTCTCCTAAAAATAATTAATAACTCCCTAATCGACCTGCCCACCCCATCAAACATCTCTGCCTGATGAAACTTCGGATCTCTCCTAGGCATCTGCCTAACTACACAAATCTTAACCGGCCTCCTACTAGCTATACACTACACTGCAGACACAACCCTGGCCTTCTCCTCAGTCGCCCACACATGCCGAAATGTACAGTACGGCTGACTAATCCGCAACCTACATGCAAACGGAGCATCATTCTTTTTCATCTGCATCTACCTCCACATCGGCCGTGGATTTTACTACGGCTCCTACCTATACAAAGAAACCTGAAACACGGGCATCATTCTCCTACTCACACTCATAGCAACCGCCTTCGTAGGCTACGTCCTGCCATGGGGACAAATATCATTCTGAGGGGCCACAGTCATTACCAACTTATTCTCAGCCATCCCCTACATCGGCCAAACCCTCGTAGAATGAGCCTGAGGTGGCTTTTCAGTAGACAACCCCACATTAACCCGATTTTTCGCACTACACTTCCTCCTCCCCTTCATAATCGCAGGCCTCACCCTCATCCATCTCACCTTCCTCCACGAATCAGGCTCAAACAACCCACTGGGCATCGTAGCTAACTCCGATAAGATCCCATTCCATCCCTACTACTCCACAAAAGACACCCTAGGATTCGCACTCATACTTCTCCCACTAACAACCCTCGCCCTATTCTCCCCCAACTTACTGGGGGACCCAGAAAACTTTACCCCAGCAAACCCACTAGTCACACCCCCACACATCAAACCAGAATGATACTTCCTATTTGCATACGCTATCCTACGCTCAATCCCCAACAAACTGGGGGGAGTCCTAGCCCTAGCAGCCTCAGTACTGATCCTATTCCTAATCCCCCTCCTCCACAAGTCCAAACAGCGTACAATAACCTTCCGTCCCCTCTCCCAGCTCCTATTCTGAACCTTAGTAGCCAACCTCACCATCCTAACATGGATCGGCAGCCAACCAGTAGAACACCCCTTCATCATCATCGGCCAACTAGCTTCCCTCACCTACTTCACCATCCTCCTAATCCTCTTCCCCCTCATCGGGACTCTAGAAAACAAGATACTTAACCACTAA\")"
   ]
  },
  {
   "cell_type": "markdown",
   "metadata": {},
   "source": [
    "## Question 5\n",
    "### This defines a function that will calculate the total amount of nucleotides within the sequence, count the number of \"C\" and \"G\" nucleotides, add them together, and divide the \"G + C\" by the total number of nucleotides. "
   ]
  },
  {
   "cell_type": "code",
   "execution_count": 11,
   "metadata": {
    "collapsed": true
   },
   "outputs": [],
   "source": [
    "## My Code:\n",
    "\n",
    "def gc_content_aa(aa_seq):\n",
    "    total = len(aa_seq)\n",
    "    c = aa_seq.count(\"C\")\n",
    "    g = aa_seq.count(\"G\")\n",
    "    gc_total = g+c\n",
    "    gc_content = gc_total/total\n",
    "    return(gc_content)\n",
    "        \n",
    "## https://stackoverflow.com/questions/16908475/beginner-python-script-for-calculating-gc-content-in-dna-sequence"
   ]
  },
  {
   "cell_type": "markdown",
   "metadata": {},
   "source": [
    "##### Testing that the function will calculate the GC content"
   ]
  },
  {
   "cell_type": "code",
   "execution_count": 12,
   "metadata": {},
   "outputs": [
    {
     "data": {
      "text/plain": [
       "0.4969378827646544"
      ]
     },
     "execution_count": 12,
     "metadata": {},
     "output_type": "execute_result"
    }
   ],
   "source": [
    "gc_content_aa(\"ATGGCCCCAAACCTCCGAAAATCCCATCCTCTCCTAAAAATAATTAATAACTCCCTAATCGACCTGCCCACCCCATCAAACATCTCTGCCTGATGAAACTTCGGATCTCTCCTAGGCATCTGCCTAACTACACAAATCTTAACCGGCCTCCTACTAGCTATACACTACACTGCAGACACAACCCTGGCCTTCTCCTCAGTCGCCCACACATGCCGAAATGTACAGTACGGCTGACTAATCCGCAACCTACATGCAAACGGAGCATCATTCTTTTTCATCTGCATCTACCTCCACATCGGCCGTGGATTTTACTACGGCTCCTACCTATACAAAGAAACCTGAAACACGGGCATCATTCTCCTACTCACACTCATAGCAACCGCCTTCGTAGGCTACGTCCTGCCATGGGGACAAATATCATTCTGAGGGGCCACAGTCATTACCAACTTATTCTCAGCCATCCCCTACATCGGCCAAACCCTCGTAGAATGAGCCTGAGGTGGCTTTTCAGTAGACAACCCCACATTAACCCGATTTTTCGCACTACACTTCCTCCTCCCCTTCATAATCGCAGGCCTCACCCTCATCCATCTCACCTTCCTCCACGAATCAGGCTCAAACAACCCACTGGGCATCGTAGCTAACTCCGATAAGATCCCATTCCATCCCTACTACTCCACAAAAGACACCCTAGGATTCGCACTCATACTTCTCCCACTAACAACCCTCGCCCTATTCTCCCCCAACTTACTGGGGGACCCAGAAAACTTTACCCCAGCAAACCCACTAGTCACACCCCCACACATCAAACCAGAATGATACTTCCTATTTGCATACGCTATCCTACGCTCAATCCCCAACAAACTGGGGGGAGTCCTAGCCCTAGCAGCCTCAGTACTGATCCTATTCCTAATCCCCCTCCTCCACAAGTCCAAACAGCGTACAATAACCTTCCGTCCCCTCTCCCAGCTCCTATTCTGAACCTTAGTAGCCAACCTCACCATCCTAACATGGATCGGCAGCCAACCAGTAGAACACCCCTTCATCATCATCGGCCAACTAGCTTCCCTCACCTACTTCACCATCCTCCTAATCCTCTTCCCCCTCATCGGGACTCTAGAAAACAAGATACTTAACCACTAA\")"
   ]
  },
  {
   "cell_type": "markdown",
   "metadata": {},
   "source": [
    "### Main"
   ]
  },
  {
   "cell_type": "code",
   "execution_count": 13,
   "metadata": {
    "collapsed": true
   },
   "outputs": [],
   "source": [
    "cytb_seqs = get_sequences_from_file(\"penguins_cytb.fasta\") \n",
    "\n",
    "penguins_df = pd.read_csv(\"penguins_mass.csv\")\n",
    "species_list = list(penguins_df.species)"
   ]
  },
  {
   "cell_type": "markdown",
   "metadata": {},
   "source": [
    "## Question 6\n",
    "### This will add a column filled with NaN labeled \"molecular_weight\" and \"GC_content\""
   ]
  },
  {
   "cell_type": "code",
   "execution_count": 14,
   "metadata": {
    "collapsed": true
   },
   "outputs": [],
   "source": [
    "## My code:\n",
    "\n",
    "penguins_df[\"molecular_weight\"] = np.nan\n",
    "penguins_df[\"GC_content\"] = np.nan \n",
    "\n",
    "## Source: https://stackoverflow.com/questions/16327055/how-to-add-an-empty-column-to-a-dataframe"
   ]
  },
  {
   "cell_type": "markdown",
   "metadata": {},
   "source": [
    "##### Confirming that the correct columns were added into penguins_df"
   ]
  },
  {
   "cell_type": "code",
   "execution_count": 15,
   "metadata": {},
   "outputs": [
    {
     "data": {
      "text/html": [
       "<div>\n",
       "<style>\n",
       "    .dataframe thead tr:only-child th {\n",
       "        text-align: right;\n",
       "    }\n",
       "\n",
       "    .dataframe thead th {\n",
       "        text-align: left;\n",
       "    }\n",
       "\n",
       "    .dataframe tbody tr th {\n",
       "        vertical-align: top;\n",
       "    }\n",
       "</style>\n",
       "<table border=\"1\" class=\"dataframe\">\n",
       "  <thead>\n",
       "    <tr style=\"text-align: right;\">\n",
       "      <th></th>\n",
       "      <th>species</th>\n",
       "      <th>mass</th>\n",
       "      <th>molecular_weight</th>\n",
       "      <th>GC_content</th>\n",
       "    </tr>\n",
       "  </thead>\n",
       "  <tbody>\n",
       "    <tr>\n",
       "      <th>0</th>\n",
       "      <td>Aptenodytes forsteri</td>\n",
       "      <td>28.00</td>\n",
       "      <td>NaN</td>\n",
       "      <td>NaN</td>\n",
       "    </tr>\n",
       "    <tr>\n",
       "      <th>1</th>\n",
       "      <td>Aptenodytes patagonicus</td>\n",
       "      <td>13.40</td>\n",
       "      <td>NaN</td>\n",
       "      <td>NaN</td>\n",
       "    </tr>\n",
       "    <tr>\n",
       "      <th>2</th>\n",
       "      <td>Eudyptes chrysocome</td>\n",
       "      <td>2.80</td>\n",
       "      <td>NaN</td>\n",
       "      <td>NaN</td>\n",
       "    </tr>\n",
       "    <tr>\n",
       "      <th>3</th>\n",
       "      <td>Eudyptes chrysolophus</td>\n",
       "      <td>4.50</td>\n",
       "      <td>NaN</td>\n",
       "      <td>NaN</td>\n",
       "    </tr>\n",
       "    <tr>\n",
       "      <th>4</th>\n",
       "      <td>Eudyptes sclateri</td>\n",
       "      <td>4.25</td>\n",
       "      <td>NaN</td>\n",
       "      <td>NaN</td>\n",
       "    </tr>\n",
       "    <tr>\n",
       "      <th>5</th>\n",
       "      <td>Eudyptula minor</td>\n",
       "      <td>1.60</td>\n",
       "      <td>NaN</td>\n",
       "      <td>NaN</td>\n",
       "    </tr>\n",
       "    <tr>\n",
       "      <th>6</th>\n",
       "      <td>Pygoscelis adeliae</td>\n",
       "      <td>4.60</td>\n",
       "      <td>NaN</td>\n",
       "      <td>NaN</td>\n",
       "    </tr>\n",
       "    <tr>\n",
       "      <th>7</th>\n",
       "      <td>Pygoscelis antarctica</td>\n",
       "      <td>4.10</td>\n",
       "      <td>NaN</td>\n",
       "      <td>NaN</td>\n",
       "    </tr>\n",
       "    <tr>\n",
       "      <th>8</th>\n",
       "      <td>Pygoscelis papua</td>\n",
       "      <td>6.10</td>\n",
       "      <td>NaN</td>\n",
       "      <td>NaN</td>\n",
       "    </tr>\n",
       "    <tr>\n",
       "      <th>9</th>\n",
       "      <td>Spheniscus demersus</td>\n",
       "      <td>3.20</td>\n",
       "      <td>NaN</td>\n",
       "      <td>NaN</td>\n",
       "    </tr>\n",
       "    <tr>\n",
       "      <th>10</th>\n",
       "      <td>Spheniscus humboldti</td>\n",
       "      <td>4.75</td>\n",
       "      <td>NaN</td>\n",
       "      <td>NaN</td>\n",
       "    </tr>\n",
       "    <tr>\n",
       "      <th>11</th>\n",
       "      <td>Spheniscus magellanicus</td>\n",
       "      <td>3.40</td>\n",
       "      <td>NaN</td>\n",
       "      <td>NaN</td>\n",
       "    </tr>\n",
       "  </tbody>\n",
       "</table>\n",
       "</div>"
      ],
      "text/plain": [
       "                    species   mass  molecular_weight  GC_content\n",
       "0      Aptenodytes forsteri  28.00               NaN         NaN\n",
       "1   Aptenodytes patagonicus  13.40               NaN         NaN\n",
       "2       Eudyptes chrysocome   2.80               NaN         NaN\n",
       "3     Eudyptes chrysolophus   4.50               NaN         NaN\n",
       "4         Eudyptes sclateri   4.25               NaN         NaN\n",
       "5           Eudyptula minor   1.60               NaN         NaN\n",
       "6        Pygoscelis adeliae   4.60               NaN         NaN\n",
       "7     Pygoscelis antarctica   4.10               NaN         NaN\n",
       "8          Pygoscelis papua   6.10               NaN         NaN\n",
       "9       Spheniscus demersus   3.20               NaN         NaN\n",
       "10     Spheniscus humboldti   4.75               NaN         NaN\n",
       "11  Spheniscus magellanicus   3.40               NaN         NaN"
      ]
     },
     "execution_count": 15,
     "metadata": {},
     "output_type": "execute_result"
    }
   ],
   "source": [
    "penguins_df"
   ]
  },
  {
   "cell_type": "markdown",
   "metadata": {},
   "source": [
    "## Question 7\n",
    "### This is a for-loop that will translate each sequence. It will also get the molecular weight, compute the GC content, and add the generated data into the corresponding empty columns within \"penguins_df\". The row counter is set at 0 so that all of the species line up correctly when the loop is run. Then, the tables are set equal to the strings and told to enter the data into the dataframe. The final line tells the loop to then move on to the next row of data."
   ]
  },
  {
   "cell_type": "code",
   "execution_count": 16,
   "metadata": {
    "collapsed": true
   },
   "outputs": [],
   "source": [
    "## Dr. X's Notes/Code:\n",
    "# for key, value in cytb_seqs.items():\n",
    "#     aa_seq = nuc2aa_translate_function(value) # whichever function you prefer of #2 or #3\n",
    "#     get the molecular weight of aa_seq\n",
    "#     get the GC content of the DNA sequence\n",
    "#     fill in empty cells in DF that you created above\n",
    "\n",
    "## My Code:\n",
    "row_counter = 0\n",
    "for key, value in cytb_seqs.items():\n",
    "    aa_string = translate_function(str(value))\n",
    "    molecular_weight_table = compute_molecular_weight(aa_string)\n",
    "    gc_content_table = gc_content_aa(str(value))\n",
    "    penguins_df.set_value(row_counter, 'molecular_weight', molecular_weight_table)\n",
    "    penguins_df.set_value(row_counter, 'GC_content', gc_content_table)\n",
    "    row_counter = row_counter + 1\n",
    "    \n",
    "## source: http://pandas-docs.github.io/pandas-docs-travis/generated/pandas.Panel.set_value.html\n",
    "## source: https://stackoverflow.com/questions/28910089/filling-empty-python-dataframe-using-loops\n",
    "## source: https://stackoverflow.com/questions/28056171/how-to-build-and-fill-pandas-dataframe-from-for-loop\n"
   ]
  },
  {
   "cell_type": "markdown",
   "metadata": {},
   "source": [
    "##### Checking that the correct information was added into the correct columns of penguins_df"
   ]
  },
  {
   "cell_type": "code",
   "execution_count": 17,
   "metadata": {},
   "outputs": [
    {
     "data": {
      "text/html": [
       "<div>\n",
       "<style>\n",
       "    .dataframe thead tr:only-child th {\n",
       "        text-align: right;\n",
       "    }\n",
       "\n",
       "    .dataframe thead th {\n",
       "        text-align: left;\n",
       "    }\n",
       "\n",
       "    .dataframe tbody tr th {\n",
       "        vertical-align: top;\n",
       "    }\n",
       "</style>\n",
       "<table border=\"1\" class=\"dataframe\">\n",
       "  <thead>\n",
       "    <tr style=\"text-align: right;\">\n",
       "      <th></th>\n",
       "      <th>species</th>\n",
       "      <th>mass</th>\n",
       "      <th>molecular_weight</th>\n",
       "      <th>GC_content</th>\n",
       "    </tr>\n",
       "  </thead>\n",
       "  <tbody>\n",
       "    <tr>\n",
       "      <th>0</th>\n",
       "      <td>Aptenodytes forsteri</td>\n",
       "      <td>28.00</td>\n",
       "      <td>42459.6021</td>\n",
       "      <td>0.483815</td>\n",
       "    </tr>\n",
       "    <tr>\n",
       "      <th>1</th>\n",
       "      <td>Aptenodytes patagonicus</td>\n",
       "      <td>13.40</td>\n",
       "      <td>42563.7067</td>\n",
       "      <td>0.496938</td>\n",
       "    </tr>\n",
       "    <tr>\n",
       "      <th>2</th>\n",
       "      <td>Eudyptes chrysocome</td>\n",
       "      <td>2.80</td>\n",
       "      <td>42475.5753</td>\n",
       "      <td>0.511811</td>\n",
       "    </tr>\n",
       "    <tr>\n",
       "      <th>3</th>\n",
       "      <td>Eudyptes chrysolophus</td>\n",
       "      <td>4.50</td>\n",
       "      <td>42445.5493</td>\n",
       "      <td>0.509186</td>\n",
       "    </tr>\n",
       "    <tr>\n",
       "      <th>4</th>\n",
       "      <td>Eudyptes sclateri</td>\n",
       "      <td>4.25</td>\n",
       "      <td>42475.5753</td>\n",
       "      <td>0.508311</td>\n",
       "    </tr>\n",
       "    <tr>\n",
       "      <th>5</th>\n",
       "      <td>Eudyptula minor</td>\n",
       "      <td>1.60</td>\n",
       "      <td>42491.6408</td>\n",
       "      <td>0.492563</td>\n",
       "    </tr>\n",
       "    <tr>\n",
       "      <th>6</th>\n",
       "      <td>Pygoscelis adeliae</td>\n",
       "      <td>4.60</td>\n",
       "      <td>42458.6140</td>\n",
       "      <td>0.490814</td>\n",
       "    </tr>\n",
       "    <tr>\n",
       "      <th>7</th>\n",
       "      <td>Pygoscelis antarctica</td>\n",
       "      <td>4.10</td>\n",
       "      <td>42404.5423</td>\n",
       "      <td>0.477690</td>\n",
       "    </tr>\n",
       "    <tr>\n",
       "      <th>8</th>\n",
       "      <td>Pygoscelis papua</td>\n",
       "      <td>6.10</td>\n",
       "      <td>42595.8759</td>\n",
       "      <td>0.471566</td>\n",
       "    </tr>\n",
       "    <tr>\n",
       "      <th>9</th>\n",
       "      <td>Spheniscus demersus</td>\n",
       "      <td>3.20</td>\n",
       "      <td>42431.5490</td>\n",
       "      <td>0.482940</td>\n",
       "    </tr>\n",
       "    <tr>\n",
       "      <th>10</th>\n",
       "      <td>Spheniscus humboldti</td>\n",
       "      <td>4.75</td>\n",
       "      <td>42399.5520</td>\n",
       "      <td>0.492563</td>\n",
       "    </tr>\n",
       "    <tr>\n",
       "      <th>11</th>\n",
       "      <td>Spheniscus magellanicus</td>\n",
       "      <td>3.40</td>\n",
       "      <td>42459.6021</td>\n",
       "      <td>0.482065</td>\n",
       "    </tr>\n",
       "  </tbody>\n",
       "</table>\n",
       "</div>"
      ],
      "text/plain": [
       "                    species   mass  molecular_weight  GC_content\n",
       "0      Aptenodytes forsteri  28.00        42459.6021    0.483815\n",
       "1   Aptenodytes patagonicus  13.40        42563.7067    0.496938\n",
       "2       Eudyptes chrysocome   2.80        42475.5753    0.511811\n",
       "3     Eudyptes chrysolophus   4.50        42445.5493    0.509186\n",
       "4         Eudyptes sclateri   4.25        42475.5753    0.508311\n",
       "5           Eudyptula minor   1.60        42491.6408    0.492563\n",
       "6        Pygoscelis adeliae   4.60        42458.6140    0.490814\n",
       "7     Pygoscelis antarctica   4.10        42404.5423    0.477690\n",
       "8          Pygoscelis papua   6.10        42595.8759    0.471566\n",
       "9       Spheniscus demersus   3.20        42431.5490    0.482940\n",
       "10     Spheniscus humboldti   4.75        42399.5520    0.492563\n",
       "11  Spheniscus magellanicus   3.40        42459.6021    0.482065"
      ]
     },
     "execution_count": 17,
     "metadata": {},
     "output_type": "execute_result"
    }
   ],
   "source": [
    "penguins_df"
   ]
  },
  {
   "cell_type": "code",
   "execution_count": 18,
   "metadata": {},
   "outputs": [
    {
     "data": {
      "text/plain": [
       "1"
      ]
     },
     "execution_count": 18,
     "metadata": {},
     "output_type": "execute_result"
    }
   ],
   "source": [
    "penguins_df.index[penguins_df['species'] == 'Aptenodytes patagonicus'].tolist()[0]"
   ]
  },
  {
   "cell_type": "markdown",
   "metadata": {},
   "source": [
    "## Question 8\n",
    "### Using seaborn, a bar-chart is created that will compare the mass with the species name on the x-axis. The names of the species were rotated 90 degrees for ease of reading. \n",
    "\n",
    "#### Question 1: The Eudyptula minor is the smallest species of penguin, which is also known as the \"Little Penguin\" \n",
    "#### Question 2: They are only 12\" tall, are from Australia, and are called fairy penguins. "
   ]
  },
  {
   "cell_type": "code",
   "execution_count": 19,
   "metadata": {
    "collapsed": true
   },
   "outputs": [],
   "source": [
    "import pandas as pd\n",
    "import seaborn as sns\n",
    "import matplotlib.pyplot as plt\n",
    "\n",
    "%matplotlib inline"
   ]
  },
  {
   "cell_type": "code",
   "execution_count": 20,
   "metadata": {
    "scrolled": true
   },
   "outputs": [
    {
     "data": {
      "text/plain": [
       "(array([ 0,  1,  2,  3,  4,  5,  6,  7,  8,  9, 10, 11]),\n",
       " <a list of 12 Text xticklabel objects>)"
      ]
     },
     "execution_count": 20,
     "metadata": {},
     "output_type": "execute_result"
    },
    {
     "data": {
      "image/png": "[encoded data removed]",
      "text/plain": [
       "<matplotlib.figure.Figure at 0x295e73c5d68>"
      ]
     },
     "metadata": {},
     "output_type": "display_data"
    }
   ],
   "source": [
    "## My Code:\n",
    "\n",
    "sns.barplot(x=\"species\", y=\"mass\", data=penguins_df)\n",
    "plt.xticks(rotation=90)\n",
    "\n",
    "## source: https://stackoverflow.com/questions/26540035/rotate-label-text-in-seaborn-factorplot\n",
    "##         https://seaborn.pydata.org/tutorial.html\n",
    "## Question 1: The Eudyptula minor is the smallest species of penguin, which is also known as the \"Little Penguin\"\n",
    "## Question 2: They are only 12\" tall, are from Australia, and are called fairy penguins. "
   ]
  },
  {
   "cell_type": "markdown",
   "metadata": {},
   "source": [
    "## Question 9\n",
    "### Using a scatter plot in seaborn, the GC_content and molecular_weight data were graphed"
   ]
  },
  {
   "cell_type": "code",
   "execution_count": 21,
   "metadata": {},
   "outputs": [
    {
     "data": {
      "text/plain": [
       "<seaborn.axisgrid.FacetGrid at 0x295ea5f8588>"
      ]
     },
     "execution_count": 21,
     "metadata": {},
     "output_type": "execute_result"
    },
    {
     "data": {
      "image/png": "[encoded data removed]",
      "text/plain": [
       "<matplotlib.figure.Figure at 0x295ea5f86a0>"
      ]
     },
     "metadata": {},
     "output_type": "display_data"
    }
   ],
   "source": [
    "## My Code:\n",
    "\n",
    "sns.lmplot(\"GC_content\", \"molecular_weight\", data=penguins_df, fit_reg=False)\n",
    "\n",
    "## Source: https://seaborn.pydata.org/tutorial.html"
   ]
  },
  {
   "cell_type": "markdown",
   "metadata": {},
   "source": [
    "## Question 10\n",
    "### This will save the new DataFrame as a .csv file called \"penguins_mass_cytb.csv\""
   ]
  },
  {
   "cell_type": "code",
   "execution_count": 22,
   "metadata": {},
   "outputs": [],
   "source": [
    "## My Code:\n",
    "penguins_df.to_csv(\"penguins_mass_cytb.csv\")\n",
    "\n",
    "## Source: https://chrisalbon.com/python/pandas_saving_dataframe_as_csv.html"
   ]
  },
  {
   "cell_type": "markdown",
   "metadata": {},
   "source": [
    "## Question 11 (Bonus)\n",
    "### I was curious if there was any correlation or interesting differences when species and GC content, species and molecular weight, GC content and mass, and molecular weight were compared, so I created several different bar-plots and scatter plots to visualize the data. Additionally, I created a function that calculated the total nucleotide content for A, C, T, and G. Finally, I created a function that will transcribe the DNA by replacing \"T\" with \"U\".   "
   ]
  },
  {
   "cell_type": "code",
   "execution_count": 23,
   "metadata": {},
   "outputs": [
    {
     "data": {
      "text/plain": [
       "(array([ 0,  1,  2,  3,  4,  5,  6,  7,  8,  9, 10, 11]),\n",
       " <a list of 12 Text xticklabel objects>)"
      ]
     },
     "execution_count": 23,
     "metadata": {},
     "output_type": "execute_result"
    },
    {
     "data": {
      "image/png": "[encoded data removed]",
      "text/plain": [
       "<matplotlib.figure.Figure at 0x295ea6a2710>"
      ]
     },
     "metadata": {},
     "output_type": "display_data"
    }
   ],
   "source": [
    "sns.barplot(x=\"species\", y=\"GC_content\", data=penguins_df)\n",
    "plt.xticks(rotation=90)"
   ]
  },
  {
   "cell_type": "code",
   "execution_count": 24,
   "metadata": {},
   "outputs": [
    {
     "data": {
      "text/plain": [
       "(array([ 0,  1,  2,  3,  4,  5,  6,  7,  8,  9, 10, 11]),\n",
       " <a list of 12 Text xticklabel objects>)"
      ]
     },
     "execution_count": 24,
     "metadata": {},
     "output_type": "execute_result"
    },
    {
     "data": {
      "image/png": "[encoded data removed]",
      "text/plain": [
       "<matplotlib.figure.Figure at 0x295ea7004a8>"
      ]
     },
     "metadata": {},
     "output_type": "display_data"
    }
   ],
   "source": [
    "sns.barplot(x=\"species\", y=\"molecular_weight\", data=penguins_df)\n",
    "plt.xticks(rotation=90)"
   ]
  },
  {
   "cell_type": "code",
   "execution_count": 25,
   "metadata": {},
   "outputs": [
    {
     "data": {
      "text/plain": [
       "<seaborn.axisgrid.FacetGrid at 0x295ea81f9b0>"
      ]
     },
     "execution_count": 25,
     "metadata": {},
     "output_type": "execute_result"
    },
    {
     "data": {
      "image/png": "[encoded data removed]",
      "text/plain": [
       "<matplotlib.figure.Figure at 0x295ea81f860>"
      ]
     },
     "metadata": {},
     "output_type": "display_data"
    }
   ],
   "source": [
    "sns.lmplot(\"GC_content\", \"mass\", data=penguins_df, fit_reg=False)"
   ]
  },
  {
   "cell_type": "code",
   "execution_count": 26,
   "metadata": {},
   "outputs": [
    {
     "data": {
      "text/plain": [
       "<seaborn.axisgrid.FacetGrid at 0x295ea83f0b8>"
      ]
     },
     "execution_count": 26,
     "metadata": {},
     "output_type": "execute_result"
    },
    {
     "data": {
      "image/png": "[encoded data removed]",
      "text/plain": [
       "<matplotlib.figure.Figure at 0x295ea83f828>"
      ]
     },
     "metadata": {},
     "output_type": "display_data"
    }
   ],
   "source": [
    "sns.lmplot(\"molecular_weight\", \"mass\", data=penguins_df, fit_reg=False)"
   ]
  },
  {
   "cell_type": "code",
   "execution_count": 27,
   "metadata": {
    "collapsed": true
   },
   "outputs": [],
   "source": [
    "def nucleotide_content_aa(aa_seq):\n",
    "    total = len(aa_seq)\n",
    "    c = aa_seq.count(\"C\")\n",
    "    g = aa_seq.count(\"G\")\n",
    "    a = aa_seq.count(\"A\")\n",
    "    t = aa_seq.count(\"T\")\n",
    "    c_content = (c/total) * 100\n",
    "    g_content = (g/total) * 100\n",
    "    a_content = (a/total) * 100\n",
    "    t_content = (t/total) * 100\n",
    "    return(c_content, g_content, a_content, t_content)"
   ]
  },
  {
   "cell_type": "code",
   "execution_count": 28,
   "metadata": {},
   "outputs": [
    {
     "data": {
      "text/plain": [
       "(36.92038495188101, 12.773403324584425, 27.384076990376204, 22.922134733158355)"
      ]
     },
     "execution_count": 28,
     "metadata": {},
     "output_type": "execute_result"
    }
   ],
   "source": [
    "nucleotide_content_aa(\"ATGGCCCCAAACCTCCGAAAATCCCATCCTCTCCTAAAAATAATTAATAACTCCCTAATCGACCTGCCCACCCCATCAAACATCTCTGCCTGATGAAACTTCGGATCTCTCCTAGGCATCTGCCTAACTACACAAATCTTAACCGGCCTCCTACTAGCTATACACTACACTGCAGACACAACCCTGGCCTTCTCCTCAGTCGCCCACACATGCCGAAATGTACAGTACGGCTGACTAATCCGCAACCTACATGCAAACGGAGCATCATTCTTTTTCATCTGCATCTACCTCCACATCGGCCGTGGATTTTACTACGGCTCCTACCTATACAAAGAAACCTGAAACACGGGCATCATTCTCCTACTCACACTCATAGCAACCGCCTTCGTAGGCTACGTCCTGCCATGGGGACAAATATCATTCTGAGGGGCCACAGTCATTACCAACTTATTCTCAGCCATCCCCTACATCGGCCAAACCCTCGTAGAATGAGCCTGAGGTGGCTTTTCAGTAGACAACCCCACATTAACCCGATTTTTCGCACTACACTTCCTCCTCCCCTTCATAATCGCAGGCCTCACCCTCATCCATCTCACCTTCCTCCACGAATCAGGCTCAAACAACCCACTGGGCATCGTAGCTAACTCCGATAAGATCCCATTCCATCCCTACTACTCCACAAAAGACACCCTAGGATTCGCACTCATACTTCTCCCACTAACAACCCTCGCCCTATTCTCCCCCAACTTACTGGGGGACCCAGAAAACTTTACCCCAGCAAACCCACTAGTCACACCCCCACACATCAAACCAGAATGATACTTCCTATTTGCATACGCTATCCTACGCTCAATCCCCAACAAACTGGGGGGAGTCCTAGCCCTAGCAGCCTCAGTACTGATCCTATTCCTAATCCCCCTCCTCCACAAGTCCAAACAGCGTACAATAACCTTCCGTCCCCTCTCCCAGCTCCTATTCTGAACCTTAGTAGCCAACCTCACCATCCTAACATGGATCGGCAGCCAACCAGTAGAACACCCCTTCATCATCATCGGCCAACTAGCTTCCCTCACCTACTTCACCATCCTCCTAATCCTCTTCCCCCTCATCGGGACTCTAGAAAACAAGATACTTAACCACTAA\")"
   ]
  },
  {
   "cell_type": "code",
   "execution_count": 29,
   "metadata": {
    "collapsed": true
   },
   "outputs": [],
   "source": [
    "def transcribe(dict):\n",
    "    for key, value in cytb_seqs.items():\n",
    "        aa_string = value.transcribe()\n",
    "    return dict.replace ('T','U')"
   ]
  },
  {
   "cell_type": "code",
   "execution_count": 30,
   "metadata": {},
   "outputs": [
    {
     "data": {
      "text/plain": [
       "'AUGGCCCCAAACCUCCGAAAAUCCCAUCCUCUCCUAAAAAUAAUUAAUAACUCCCUAAUCGACCUGCCCACCCCAUCAAACAUCUCUGCCUGAUGAAACUUCGGAUCUCUCCUAGGCAUCUGCCUAACUACACAAAUCUUAACCGGCCUCCUACUAGCUAUACACUACACUGCAGACACAACCCUGGCCUUCUCCUCAGUCGCCCACACAUGCCGAAAUGUACAGUACGGCUGACUAAUCCGCAACCUACAUGCAAACGGAGCAUCAUUCUUUUUCAUCUGCAUCUACCUCCACAUCGGCCGUGGAUUUUACUACGGCUCCUACCUAUACAAAGAAACCUGAAACACGGGCAUCAUUCUCCUACUCACACUCAUAGCAACCGCCUUCGUAGGCUACGUCCUGCCAUGGGGACAAAUAUCAUUCUGAGGGGCCACAGUCAUUACCAACUUAUUCUCAGCCAUCCCCUACAUCGGCCAAACCCUCGUAGAAUGAGCCUGAGGUGGCUUUUCAGUAGACAACCCCACAUUAACCCGAUUUUUCGCACUACACUUCCUCCUCCCCUUCAUAAUCGCAGGCCUCACCCUCAUCCAUCUCACCUUCCUCCACGAAUCAGGCUCAAACAACCCACUGGGCAUCGUAGCUAACUCCGAUAAGAUCCCAUUCCAUCCCUACUACUCCACAAAAGACACCCUAGGAUUCGCACUCAUACUUCUCCCACUAACAACCCUCGCCCUAUUCUCCCCCAACUUACUGGGGGACCCAGAAAACUUUACCCCAGCAAACCCACUAGUCACACCCCCACACAUCAAACCAGAAUGAUACUUCCUAUUUGCAUACGCUAUCCUACGCUCAAUCCCCAACAAACUGGGGGGAGUCCUAGCCCUAGCAGCCUCAGUACUGAUCCUAUUCCUAAUCCCCCUCCUCCACAAGUCCAAACAGCGUACAAUAACCUUCCGUCCCCUCUCCCAGCUCCUAUUCUGAACCUUAGUAGCCAACCUCACCAUCCUAACAUGGAUCGGCAGCCAACCAGUAGAACACCCCUUCAUCAUCAUCGGCCAACUAGCUUCCCUCACCUACUUCACCAUCCUCCUAAUCCUCUUCCCCCUCAUCGGGACUCUAGAAAACAAGAUACUUAACCACUAA'"
      ]
     },
     "execution_count": 30,
     "metadata": {},
     "output_type": "execute_result"
    }
   ],
   "source": [
    "transcribe(\"ATGGCCCCAAACCTCCGAAAATCCCATCCTCTCCTAAAAATAATTAATAACTCCCTAATCGACCTGCCCACCCCATCAAACATCTCTGCCTGATGAAACTTCGGATCTCTCCTAGGCATCTGCCTAACTACACAAATCTTAACCGGCCTCCTACTAGCTATACACTACACTGCAGACACAACCCTGGCCTTCTCCTCAGTCGCCCACACATGCCGAAATGTACAGTACGGCTGACTAATCCGCAACCTACATGCAAACGGAGCATCATTCTTTTTCATCTGCATCTACCTCCACATCGGCCGTGGATTTTACTACGGCTCCTACCTATACAAAGAAACCTGAAACACGGGCATCATTCTCCTACTCACACTCATAGCAACCGCCTTCGTAGGCTACGTCCTGCCATGGGGACAAATATCATTCTGAGGGGCCACAGTCATTACCAACTTATTCTCAGCCATCCCCTACATCGGCCAAACCCTCGTAGAATGAGCCTGAGGTGGCTTTTCAGTAGACAACCCCACATTAACCCGATTTTTCGCACTACACTTCCTCCTCCCCTTCATAATCGCAGGCCTCACCCTCATCCATCTCACCTTCCTCCACGAATCAGGCTCAAACAACCCACTGGGCATCGTAGCTAACTCCGATAAGATCCCATTCCATCCCTACTACTCCACAAAAGACACCCTAGGATTCGCACTCATACTTCTCCCACTAACAACCCTCGCCCTATTCTCCCCCAACTTACTGGGGGACCCAGAAAACTTTACCCCAGCAAACCCACTAGTCACACCCCCACACATCAAACCAGAATGATACTTCCTATTTGCATACGCTATCCTACGCTCAATCCCCAACAAACTGGGGGGAGTCCTAGCCCTAGCAGCCTCAGTACTGATCCTATTCCTAATCCCCCTCCTCCACAAGTCCAAACAGCGTACAATAACCTTCCGTCCCCTCTCCCAGCTCCTATTCTGAACCTTAGTAGCCAACCTCACCATCCTAACATGGATCGGCAGCCAACCAGTAGAACACCCCTTCATCATCATCGGCCAACTAGCTTCCCTCACCTACTTCACCATCCTCCTAATCCTCTTCCCCCTCATCGGGACTCTAGAAAACAAGATACTTAACCACTAA\")"
   ]
  }
 ],
 "metadata": {
  "kernelspec": {
   "display_name": "Python 3",
   "language": "python",
   "name": "python3"
  },
  "language_info": {
   "codemirror_mode": {
    "name": "ipython",
    "version": 3
   },
   "file_extension": ".py",
   "mimetype": "text/x-python",
   "name": "python",
   "nbconvert_exporter": "python",
   "pygments_lexer": "ipython3",
   "version": "3.6.2"
  }
 },
 "nbformat": 4,
 "nbformat_minor": 2
}
